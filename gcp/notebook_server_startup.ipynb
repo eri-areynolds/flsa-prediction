{
 "cells": [
  {
   "cell_type": "code",
   "execution_count": null,
   "metadata": {},
   "outputs": [],
   "source": [
    "import tensorflow as tf\n",
    "tf.io.gfile.makedirs('data')\n",
    "!gsutil cp gs://eri-ml-bucket-1/flsa_prediction/func_model.ipynb ./\n",
    "!gsutil cp gs://eri-ml-bucket-1/flsa_prediction/data/uncased_base ./data/\n",
    "!pip install bert-for-tf2\n",
    "!pip install sentencepiece"
   ]
  }
 ],
 "metadata": {
  "kernelspec": {
   "display_name": "Python 3",
   "language": "python",
   "name": "python3"
  },
  "language_info": {
   "codemirror_mode": {
    "name": "ipython",
    "version": 3
   },
   "file_extension": ".py",
   "mimetype": "text/x-python",
   "name": "python",
   "nbconvert_exporter": "python",
   "pygments_lexer": "ipython3",
   "version": "3.7.2"
  }
 },
 "nbformat": 4,
 "nbformat_minor": 2
}
